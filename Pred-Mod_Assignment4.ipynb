{
 "cells": [
  {
   "cell_type": "markdown",
   "id": "db7a99e5",
   "metadata": {},
   "source": [
    "## 3. We now review k-fold cross-validation."
   ]
  },
  {
   "cell_type": "markdown",
   "id": "7ef10009",
   "metadata": {},
   "source": [
    "### (a) Explain how k-fold cross-validation is implemented.\n"
   ]
  },
  {
   "cell_type": "markdown",
   "id": "909dd895",
   "metadata": {},
   "source": [
    "- K folds cross validation is implemented by randomly dividing the data into k groups of roughly equal size. at first fold 1 is treated as val. the remaining folds are fitted and MSE is computed on the help out fold.  then the held out fold is shifted until all folds have been iterated over. Then you comput the average MSE acaross folds"
   ]
  },
  {
   "cell_type": "markdown",
   "id": "1510e621",
   "metadata": {},
   "source": [
    "### (b) What are the advantages and disadvantages of k-fold crossvalidation relative to:"
   ]
  },
  {
   "cell_type": "markdown",
   "id": "1844c4b4",
   "metadata": {},
   "source": [
    "#### i. The validation set approach?\n"
   ]
  },
  {
   "cell_type": "markdown",
   "id": "a617b9ea",
   "metadata": {},
   "source": [
    "- the validation estimate of test error can be highly variable. \n",
    "- only a subset of obs are used to fit model. statistical models perform worse with fewer observations\n",
    "- con of k-folds is that is more complex "
   ]
  },
  {
   "cell_type": "markdown",
   "id": "e8e12f31",
   "metadata": {},
   "source": [
    "#### ii. LOOCV?"
   ]
  },
  {
   "cell_type": "markdown",
   "id": "04d32421",
   "metadata": {},
   "source": [
    "- Main advantage of k-fold compared to LOOCV is that it is computationaly less intensive and takes less time to run\n",
    "- also k-folds reduces variance\n",
    "- Main con of k-fold compared to LOOCV is that it increases bias "
   ]
  },
  {
   "cell_type": "markdown",
   "id": "fa7a7610",
   "metadata": {},
   "source": [
    "## 5. In Chapter 4, we used logistic regression to predict the probability of default using income and balance on the Default data set. We will now estimate the test error of this logistic regression model using the validation set approach. Do not forget to set a random seed before beginning your analysis. "
   ]
  },
  {
   "cell_type": "code",
   "execution_count": null,
   "id": "a06a0052",
   "metadata": {},
   "outputs": [],
   "source": []
  },
  {
   "cell_type": "markdown",
   "id": "b412a40a",
   "metadata": {},
   "source": [
    "### (a) Fit a logistic regression model that uses income and balance to predict default."
   ]
  },
  {
   "cell_type": "code",
   "execution_count": null,
   "id": "dc295fd0",
   "metadata": {},
   "outputs": [],
   "source": []
  },
  {
   "cell_type": "markdown",
   "id": "dfff87bf",
   "metadata": {},
   "source": [
    " ### (b) Using the validation set approach, estimate the test error of this model. In order to do this, you must perform the following steps:"
   ]
  },
  {
   "cell_type": "code",
   "execution_count": null,
   "id": "1390294c",
   "metadata": {},
   "outputs": [],
   "source": []
  },
  {
   "cell_type": "markdown",
   "id": "1a580b24",
   "metadata": {},
   "source": [
    " #### i. Split the sample set into a training set and a validation set. "
   ]
  },
  {
   "cell_type": "code",
   "execution_count": null,
   "id": "9801bff6",
   "metadata": {},
   "outputs": [],
   "source": []
  },
  {
   "cell_type": "markdown",
   "id": "3c6ae0c2",
   "metadata": {},
   "source": [
    "#### ii. Fit a multiple logistic regression model using only the training observations. "
   ]
  },
  {
   "cell_type": "code",
   "execution_count": null,
   "id": "f2555fa6",
   "metadata": {},
   "outputs": [],
   "source": []
  },
  {
   "cell_type": "markdown",
   "id": "eab1ff15",
   "metadata": {},
   "source": [
    "#### iii. Obtain a prediction of default status for each individual in the validation set by computing the posterior probability of default for that individual, and classifying the individual to the default category if the posterior probability is greater than 0.5. "
   ]
  },
  {
   "cell_type": "code",
   "execution_count": null,
   "id": "2a3f0310",
   "metadata": {},
   "outputs": [],
   "source": []
  },
  {
   "cell_type": "markdown",
   "id": "0fe7ca3e",
   "metadata": {},
   "source": [
    "#### iv. Compute the validation set error, which is the fraction of the observations in the validation set that are misclassified. "
   ]
  },
  {
   "cell_type": "code",
   "execution_count": null,
   "id": "eabfe93b",
   "metadata": {},
   "outputs": [],
   "source": []
  },
  {
   "cell_type": "markdown",
   "id": "fc9295bb",
   "metadata": {},
   "source": [
    "### (c) Repeat the process in (b) three times, using three different splits of the observations into a training set and a validation set. Comment on the results obtained.226 5. Resampling Methods "
   ]
  },
  {
   "cell_type": "code",
   "execution_count": null,
   "id": "6d205413",
   "metadata": {},
   "outputs": [],
   "source": []
  },
  {
   "cell_type": "markdown",
   "id": "8d335505",
   "metadata": {},
   "source": [
    "### (d) Now consider a logistic regression model that predicts the probability of default using income, balance, and a dummy variable for student. Estimate the test error for this model using the validation set approach. Comment on whether or not including a dummy variable for student leads to a reduction in the test error rate. "
   ]
  },
  {
   "cell_type": "code",
   "execution_count": null,
   "id": "8e920785",
   "metadata": {},
   "outputs": [],
   "source": []
  },
  {
   "cell_type": "markdown",
   "id": "8681642c",
   "metadata": {},
   "source": [
    "## 6. We continue to consider the use of a logistic regression model to predict the probability of default using income and balance on the Default data set. In particular, we will now compute estimates for the standard errors of the income and balance logistic regression coefficients in two different ways: (1) using the bootstrap, and (2) using the standard formula for computing the standard errors in the sm.GLM() function. Do not forget to set a random seed before beginning your analysis. "
   ]
  },
  {
   "cell_type": "code",
   "execution_count": null,
   "id": "d41d244a",
   "metadata": {},
   "outputs": [],
   "source": []
  },
  {
   "cell_type": "markdown",
   "id": "111d621f",
   "metadata": {},
   "source": [
    "### (a) Using the summarize() and sm.GLM() functions, determine the estimated standard errors for the coefficients associated with income and balance in a multiple logistic regression model that uses both predictors. "
   ]
  },
  {
   "cell_type": "code",
   "execution_count": null,
   "id": "68f2fb4c",
   "metadata": {},
   "outputs": [],
   "source": []
  },
  {
   "cell_type": "markdown",
   "id": "0dbf8fca",
   "metadata": {},
   "source": [
    "### (b) Write a function, boot_fn(), that takes as input the Default data set as well as an index of the observations, and that outputs the coefficient estimates for income and balance in the multiple logistic regression model. "
   ]
  },
  {
   "cell_type": "code",
   "execution_count": null,
   "id": "698f4a0b",
   "metadata": {},
   "outputs": [],
   "source": []
  },
  {
   "cell_type": "markdown",
   "id": "67042c69",
   "metadata": {},
   "source": [
    "### (c) Following the bootstrap example in the lab, use your boot_fn() function to estimate the standard errors of the logistic regression coefficients for income and balance. "
   ]
  },
  {
   "cell_type": "code",
   "execution_count": null,
   "id": "56d885e0",
   "metadata": {},
   "outputs": [],
   "source": []
  },
  {
   "cell_type": "markdown",
   "id": "8ebc4bb5",
   "metadata": {},
   "source": [
    "### (d) Comment on the estimated standard errors obtained using the sm.GLM() function and using the bootstrap."
   ]
  },
  {
   "cell_type": "code",
   "execution_count": null,
   "id": "0f19b9e1",
   "metadata": {},
   "outputs": [],
   "source": []
  },
  {
   "cell_type": "markdown",
   "id": "0220ec85",
   "metadata": {},
   "source": [
    "## 9. We will now consider the Boston housing data set, from the ISLP library.\n"
   ]
  },
  {
   "cell_type": "code",
   "execution_count": null,
   "id": "63c971bd",
   "metadata": {},
   "outputs": [],
   "source": []
  },
  {
   "cell_type": "markdown",
   "id": "c47d56de",
   "metadata": {},
   "source": [
    "#### (a) Based on this data set, provide an estimate for the population mean of medv. Call this estimate µˆ.228 5. Resampling Methods\n"
   ]
  },
  {
   "cell_type": "code",
   "execution_count": null,
   "id": "23e1c76a",
   "metadata": {},
   "outputs": [],
   "source": []
  },
  {
   "cell_type": "markdown",
   "id": "9dd74105",
   "metadata": {},
   "source": [
    "### (b) Provide an estimate of the standard error of µˆ. Interpret this result. Hint: We can compute the standard error of the sample mean by dividing the sample standard deviation by the square root of the number of observations.\n"
   ]
  },
  {
   "cell_type": "code",
   "execution_count": null,
   "id": "358a71e3",
   "metadata": {},
   "outputs": [],
   "source": []
  },
  {
   "cell_type": "markdown",
   "id": "db08937a",
   "metadata": {},
   "source": [
    "### (c) Now estimate the standard error of µˆ using the bootstrap. How does this compare to your answer from (b)?\n"
   ]
  },
  {
   "cell_type": "code",
   "execution_count": null,
   "id": "33be789e",
   "metadata": {},
   "outputs": [],
   "source": []
  },
  {
   "cell_type": "markdown",
   "id": "11e8e5c7",
   "metadata": {},
   "source": [
    "### (d) Based on your bootstrap estimate from (c), provide a 95 % confidence interval for the mean of medv. Compare it to the results obtained by using Boston['medv'].std() and the two standard error rule (3.9). Hint: You can approximate a 95 % confidence interval using the formula [ˆ µ − 2SE(ˆ µ), µˆ + 2SE(ˆ µ)].\n"
   ]
  },
  {
   "cell_type": "code",
   "execution_count": null,
   "id": "99e9fbfc",
   "metadata": {},
   "outputs": [],
   "source": []
  },
  {
   "cell_type": "markdown",
   "id": "29f87e8e",
   "metadata": {},
   "source": [
    "### (e) Based on this data set, provide an estimate, µˆmed, for the median value of medv in the population.\n"
   ]
  },
  {
   "cell_type": "code",
   "execution_count": null,
   "id": "c04862eb",
   "metadata": {},
   "outputs": [],
   "source": []
  },
  {
   "cell_type": "markdown",
   "id": "15f3bf77",
   "metadata": {},
   "source": [
    "### (f) We now would like to estimate the standard error of µˆmed. Unfortunately, there is no simple formula for computing the standard error of the median. Instead, estimate the standard error of the median using the bootstrap. Comment on your findings.\n"
   ]
  },
  {
   "cell_type": "code",
   "execution_count": null,
   "id": "d25986a9",
   "metadata": {},
   "outputs": [],
   "source": []
  },
  {
   "cell_type": "markdown",
   "id": "593b6a43",
   "metadata": {},
   "source": [
    "### (g) Based on this data set, provide an estimate for the tenth percentile of medv in Boston census tracts. Call this quantity µˆ0.1. (You can use the np.percentile() function.)\n",
    "\n"
   ]
  },
  {
   "cell_type": "code",
   "execution_count": null,
   "id": "0e40c566",
   "metadata": {},
   "outputs": [],
   "source": []
  },
  {
   "cell_type": "markdown",
   "id": "35379f71",
   "metadata": {},
   "source": [
    "### (h) Use the bootstrap to estimate the standard error of µˆ0.1. Comment on your findings"
   ]
  },
  {
   "cell_type": "code",
   "execution_count": null,
   "id": "c2341a1b",
   "metadata": {},
   "outputs": [],
   "source": []
  }
 ],
 "metadata": {
  "hide_input": false,
  "kernelspec": {
   "display_name": "Python 3 (ipykernel)",
   "language": "python",
   "name": "python3"
  },
  "language_info": {
   "codemirror_mode": {
    "name": "ipython",
    "version": 3
   },
   "file_extension": ".py",
   "mimetype": "text/x-python",
   "name": "python",
   "nbconvert_exporter": "python",
   "pygments_lexer": "ipython3",
   "version": "3.9.12"
  }
 },
 "nbformat": 4,
 "nbformat_minor": 5
}
