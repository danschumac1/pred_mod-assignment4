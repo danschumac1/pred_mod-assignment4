{
 "cells": [
  {
   "cell_type": "markdown",
   "id": "db7a99e5",
   "metadata": {},
   "source": [
    "## 3. We now review k-fold cross-validation."
   ]
  },
  {
   "cell_type": "markdown",
   "id": "7ef10009",
   "metadata": {},
   "source": [
    "### (a) Explain how k-fold cross-validation is implemented.\n"
   ]
  },
  {
   "cell_type": "markdown",
   "id": "909dd895",
   "metadata": {},
   "source": [
    "- K folds cross validation is implemented by randomly dividing the data into k groups of roughly equal size. at first fold 1 is treated as val. the remaining folds are fitted and MSE is computed on the help out fold.  then the held out fold is shifted until all folds have been iterated over. Then you comput the average MSE acaross folds"
   ]
  },
  {
   "cell_type": "markdown",
   "id": "1510e621",
   "metadata": {},
   "source": [
    "### (b) What are the advantages and disadvantages of k-fold crossvalidation relative to:"
   ]
  },
  {
   "cell_type": "markdown",
   "id": "1844c4b4",
   "metadata": {},
   "source": [
    "#### i. The validation set approach?\n"
   ]
  },
  {
   "cell_type": "markdown",
   "id": "a617b9ea",
   "metadata": {},
   "source": [
    "- the validation estimate of test error can be highly variable. \n",
    "- only a subset of obs are used to fit model. statistical models perform worse with fewer observations\n",
    "- con of k-folds is that is more complex "
   ]
  },
  {
   "cell_type": "markdown",
   "id": "e8e12f31",
   "metadata": {},
   "source": [
    "#### ii. LOOCV?"
   ]
  },
  {
   "cell_type": "markdown",
   "id": "04d32421",
   "metadata": {},
   "source": [
    "- Main advantage of k-fold compared to LOOCV is that it is computationaly less intensive and takes less time to run\n",
    "- also k-folds reduces variance\n",
    "- Main con of k-fold compared to LOOCV is that it increases bias "
   ]
  },
  {
   "cell_type": "markdown",
   "id": "fa7a7610",
   "metadata": {},
   "source": [
    "## 5. In Chapter 4, we used logistic regression to predict the probability of default using income and balance on the Default data set. We will now estimate the test error of this logistic regression model using the validation set approach. Do not forget to set a random seed before beginning your analysis. "
   ]
  },
  {
   "cell_type": "markdown",
   "id": "554f495b",
   "metadata": {},
   "source": [
    "___Imports___"
   ]
  },
  {
   "cell_type": "code",
   "execution_count": 67,
   "id": "78bca682",
   "metadata": {},
   "outputs": [],
   "source": [
    "import pandas as pd\n",
    "import numpy as np\n",
    "import matplotlib.pyplot as plt\n",
    "import seaborn as sns\n",
    "\n",
    "from sklearn.linear_model import LogisticRegression\n",
    "from sklearn.discriminant_analysis import LinearDiscriminantAnalysis as LDA, QuadraticDiscriminantAnalysis as QDA\n",
    "from sklearn.naive_bayes import GaussianNB\n",
    "from sklearn.neighbors import KNeighborsClassifier\n",
    "from sklearn.preprocessing import StandardScaler\n",
    "from sklearn.model_selection import train_test_split, cross_val_score\n",
    "from sklearn.metrics import accuracy_score\n",
    "\n",
    "import statsmodels.api as sm\n",
    "\n",
    "from ISLP import load_data, confusion_table\n",
    "from ISLP.models import ModelSpec as MS, summarize, contrast"
   ]
  },
  {
   "cell_type": "code",
   "execution_count": 68,
   "id": "f7cd67ae",
   "metadata": {},
   "outputs": [],
   "source": [
    "def return_error(preds,y_test):\n",
    "    TN = confusion_table(preds, y_test)[0][0]\n",
    "    FP = confusion_table(preds, y_test)[0][1]\n",
    "    FN = confusion_table(preds, y_test)[1][0]\n",
    "    TP = confusion_table(preds, y_test)[1][1]\n",
    "\n",
    "    error = (FP + FN) / (TN + FP + FN + TP)\n",
    "\n",
    "    return error"
   ]
  },
  {
   "cell_type": "markdown",
   "id": "b412a40a",
   "metadata": {},
   "source": [
    "### (a) Fit a logistic regression model that uses income and balance to predict default."
   ]
  },
  {
   "cell_type": "markdown",
   "id": "dfff87bf",
   "metadata": {},
   "source": [
    " ### (b) Using the validation set approach, estimate the test error of this model. In order to do this, you must perform the following steps:"
   ]
  },
  {
   "cell_type": "markdown",
   "id": "1a580b24",
   "metadata": {},
   "source": [
    " #### i. Split the sample set into a training set and a validation set. "
   ]
  },
  {
   "cell_type": "code",
   "execution_count": 69,
   "id": "9801bff6",
   "metadata": {},
   "outputs": [],
   "source": [
    "default = load_data('Default')\n",
    "default_train, default_test = train_test_split(\n",
    "    default,\n",
    "    test_size = .2,\n",
    "    random_state=27,\n",
    "    shuffle= True\n",
    ")\n",
    "\n",
    "X_train = default_train.drop(['default', 'student'], axis = 1)\n",
    "X_test = default_test.drop(['default', 'student'], axis = 1)\n",
    "y_train = (default_train['default'] == 'Yes').astype(int)\n",
    "y_test = (default_test['default'] == 'Yes').astype(int)"
   ]
  },
  {
   "cell_type": "markdown",
   "id": "3c6ae0c2",
   "metadata": {},
   "source": [
    "#### ii. Fit a multiple logistic regression model using only the training observations. "
   ]
  },
  {
   "cell_type": "code",
   "execution_count": 81,
   "id": "cdf7d62e",
   "metadata": {
    "scrolled": true
   },
   "outputs": [],
   "source": [
    "glm = sm.GLM(y_train, X_train, family=sm.families.Binomial())\n",
    "results = glm.fit()"
   ]
  },
  {
   "cell_type": "markdown",
   "id": "eab1ff15",
   "metadata": {},
   "source": [
    "#### iii. Obtain a prediction of default status for each individual in the validation set by computing the posterior probability of default for that individual, and classifying the individual to the default category if the posterior probability is greater than 0.5. "
   ]
  },
  {
   "cell_type": "code",
   "execution_count": 71,
   "id": "2a3f0310",
   "metadata": {},
   "outputs": [],
   "source": [
    "# Making predictions on the test set\n",
    "probs = results.predict(X_test)\n",
    "\n",
    "# Assigning labels based on probability threshold\n",
    "preds = np.array([0] * len(X_test))\n",
    "preds[probs > 0.5] = 1"
   ]
  },
  {
   "cell_type": "markdown",
   "id": "0fe7ca3e",
   "metadata": {},
   "source": [
    "#### iv. Compute the validation set error, which is the fraction of the observations in the validation set that are misclassified. "
   ]
  },
  {
   "cell_type": "code",
   "execution_count": 72,
   "id": "eabfe93b",
   "metadata": {},
   "outputs": [
    {
     "data": {
      "text/plain": [
       "0.035"
      ]
     },
     "execution_count": 72,
     "metadata": {},
     "output_type": "execute_result"
    }
   ],
   "source": [
    "return_error(preds,y_test)"
   ]
  },
  {
   "cell_type": "markdown",
   "id": "fc9295bb",
   "metadata": {},
   "source": [
    "### (c) Repeat the process in (b) three times, using three different splits of the observations into a training set and a validation set. Comment on the results obtained"
   ]
  },
  {
   "cell_type": "code",
   "execution_count": 112,
   "id": "6d205413",
   "metadata": {},
   "outputs": [
    {
     "name": "stdout",
     "output_type": "stream",
     "text": [
      "[0.0295, 0.0285, 0.03]\n"
     ]
    }
   ],
   "source": [
    "error_list = []\n",
    "\n",
    "for random_state in range(1, 4):\n",
    "    default_train, default_test = train_test_split(\n",
    "        default,\n",
    "        test_size=.2,\n",
    "        random_state=random_state,\n",
    "        shuffle=True\n",
    "    )\n",
    "\n",
    "    X_train = default_train.drop(['default', 'student'], axis=1)\n",
    "    X_test = default_test.drop(['default', 'student'], axis=1)\n",
    "    y_train = (default_train['default'] == 'Yes').astype(int)\n",
    "    y_test = (default_test['default'] == 'Yes').astype(int)\n",
    "\n",
    "    glm = sm.GLM(y_train, X_train, family=sm.families.Binomial())\n",
    "    results = glm.fit()\n",
    "\n",
    "    # Making predictions on the test set\n",
    "    probs = results.predict(X_test)\n",
    "\n",
    "    # Assigning labels based on probability threshold\n",
    "    preds = np.array([0] * len(X_test))\n",
    "    preds[probs > 0.5] = 1\n",
    "\n",
    "    error = return_error(preds, y_test)\n",
    "    error_list.append(error)\n",
    "\n",
    "print(error_list)\n"
   ]
  },
  {
   "cell_type": "markdown",
   "id": "57f05760",
   "metadata": {},
   "source": [
    "- they are all basically the same..."
   ]
  },
  {
   "cell_type": "markdown",
   "id": "8d335505",
   "metadata": {},
   "source": [
    "### (d) Now consider a logistic regression model that predicts the probability of default using income, balance, and a dummy variable for student. Estimate the test error for this model using the validation set approach. Comment on whether or not including a dummy variable for student leads to a reduction in the test error rate. "
   ]
  },
  {
   "cell_type": "code",
   "execution_count": 74,
   "id": "735ec328",
   "metadata": {},
   "outputs": [
    {
     "data": {
      "text/html": [
       "<div>\n",
       "<style scoped>\n",
       "    .dataframe tbody tr th:only-of-type {\n",
       "        vertical-align: middle;\n",
       "    }\n",
       "\n",
       "    .dataframe tbody tr th {\n",
       "        vertical-align: top;\n",
       "    }\n",
       "\n",
       "    .dataframe thead th {\n",
       "        text-align: right;\n",
       "    }\n",
       "</style>\n",
       "<table border=\"1\" class=\"dataframe\">\n",
       "  <thead>\n",
       "    <tr style=\"text-align: right;\">\n",
       "      <th></th>\n",
       "      <th>default</th>\n",
       "      <th>student</th>\n",
       "      <th>balance</th>\n",
       "      <th>income</th>\n",
       "    </tr>\n",
       "  </thead>\n",
       "  <tbody>\n",
       "    <tr>\n",
       "      <th>0</th>\n",
       "      <td>No</td>\n",
       "      <td>No</td>\n",
       "      <td>729.526495</td>\n",
       "      <td>44361.625074</td>\n",
       "    </tr>\n",
       "    <tr>\n",
       "      <th>1</th>\n",
       "      <td>No</td>\n",
       "      <td>Yes</td>\n",
       "      <td>817.180407</td>\n",
       "      <td>12106.134700</td>\n",
       "    </tr>\n",
       "    <tr>\n",
       "      <th>2</th>\n",
       "      <td>No</td>\n",
       "      <td>No</td>\n",
       "      <td>1073.549164</td>\n",
       "      <td>31767.138947</td>\n",
       "    </tr>\n",
       "    <tr>\n",
       "      <th>3</th>\n",
       "      <td>No</td>\n",
       "      <td>No</td>\n",
       "      <td>529.250605</td>\n",
       "      <td>35704.493935</td>\n",
       "    </tr>\n",
       "    <tr>\n",
       "      <th>4</th>\n",
       "      <td>No</td>\n",
       "      <td>No</td>\n",
       "      <td>785.655883</td>\n",
       "      <td>38463.495879</td>\n",
       "    </tr>\n",
       "  </tbody>\n",
       "</table>\n",
       "</div>"
      ],
      "text/plain": [
       "  default student      balance        income\n",
       "0      No      No   729.526495  44361.625074\n",
       "1      No     Yes   817.180407  12106.134700\n",
       "2      No      No  1073.549164  31767.138947\n",
       "3      No      No   529.250605  35704.493935\n",
       "4      No      No   785.655883  38463.495879"
      ]
     },
     "execution_count": 74,
     "metadata": {},
     "output_type": "execute_result"
    }
   ],
   "source": [
    "default.head()"
   ]
  },
  {
   "cell_type": "code",
   "execution_count": 75,
   "id": "8e920785",
   "metadata": {},
   "outputs": [],
   "source": [
    "default_train, default_test = train_test_split(\n",
    "    default,\n",
    "    test_size = .2,\n",
    "    random_state=3,\n",
    "    shuffle= True\n",
    ")\n",
    "\n",
    "default_train['student']= (default_train['student'] == 'Yes').astype(int)\n",
    "default_test['student']= (default_test['student'] == 'Yes').astype(int)"
   ]
  },
  {
   "cell_type": "code",
   "execution_count": 76,
   "id": "42974185",
   "metadata": {},
   "outputs": [],
   "source": [
    "X_train = default_train.drop('default', axis = 1)\n",
    "X_test = default_test.drop('default', axis = 1)\n",
    "y_train = (default_train['default'] == 'Yes').astype(int)\n",
    "y_test = (default_test['default'] == 'Yes').astype(int)\n"
   ]
  },
  {
   "cell_type": "code",
   "execution_count": 79,
   "id": "5ad350b2",
   "metadata": {},
   "outputs": [
    {
     "data": {
      "text/plain": [
       "0.033"
      ]
     },
     "execution_count": 79,
     "metadata": {},
     "output_type": "execute_result"
    }
   ],
   "source": [
    "\n",
    "glm = sm.GLM(y_train, X_train, family=sm.families.Binomial())\n",
    "results = glm.fit()\n",
    "\n",
    "# Making predictions on the test set\n",
    "probs = results.predict(X_test)\n",
    "\n",
    "# Assigning labels based on probability threshold\n",
    "preds = np.array([0] * len(X_test))\n",
    "preds[probs > 0.5] = 1\n",
    "\n",
    "return_error(preds,y_test)"
   ]
  },
  {
   "cell_type": "markdown",
   "id": "dd00cdf8",
   "metadata": {},
   "source": [
    "- it is slightly worse"
   ]
  },
  {
   "cell_type": "markdown",
   "id": "8681642c",
   "metadata": {},
   "source": [
    "## 6. We continue to consider the use of a logistic regression model to predict the probability of default using income and balance on the Default data set. In particular, we will now compute estimates for the standard errors of the income and balance logistic regression coefficients in two different ways: (1) using the bootstrap, and (2) using the standard formula for computing the standard errors in the sm.GLM() function. Do not forget to set a random seed before beginning your analysis. "
   ]
  },
  {
   "cell_type": "code",
   "execution_count": 80,
   "id": "d41d244a",
   "metadata": {},
   "outputs": [],
   "source": [
    "import random\n",
    "random.seed(27)"
   ]
  },
  {
   "cell_type": "markdown",
   "id": "111d621f",
   "metadata": {},
   "source": [
    "### (a) Using the summarize() and sm.GLM() functions, determine the estimated standard errors for the coefficients associated with income and balance in a multiple logistic regression model that uses both predictors. "
   ]
  },
  {
   "cell_type": "code",
   "execution_count": 82,
   "id": "68f2fb4c",
   "metadata": {
    "scrolled": true
   },
   "outputs": [
    {
     "name": "stdout",
     "output_type": "stream",
     "text": [
      "                 Generalized Linear Model Regression Results                  \n",
      "==============================================================================\n",
      "Dep. Variable:                default   No. Observations:                 8000\n",
      "Model:                            GLM   Df Residuals:                     7998\n",
      "Model Family:                Binomial   Df Model:                            1\n",
      "Link Function:                  Logit   Scale:                          1.0000\n",
      "Method:                          IRLS   Log-Likelihood:                -1415.8\n",
      "Date:                Mon, 26 Feb 2024   Deviance:                       2831.6\n",
      "Time:                        20:42:08   Pearson chi2:                 2.79e+04\n",
      "No. Iterations:                     7   Pseudo R-squ. (CS):           -0.05532\n",
      "Covariance Type:            nonrobust                                         \n",
      "==============================================================================\n",
      "                 coef    std err          z      P>|z|      [0.025      0.975]\n",
      "------------------------------------------------------------------------------\n",
      "balance        0.0005    7.8e-05      5.786      0.000       0.000       0.001\n",
      "income        -0.0001    4.1e-06    -30.726      0.000      -0.000      -0.000\n",
      "==============================================================================\n"
     ]
    }
   ],
   "source": [
    "default_train, default_test = train_test_split(\n",
    "    default,\n",
    "    test_size = .2,\n",
    "    random_state = 2,\n",
    "    shuffle = True\n",
    ")\n",
    "\n",
    "X_train = default_train.drop(['default', 'student'], axis = 1)\n",
    "X_test = default_test.drop(['default', 'student'], axis = 1)\n",
    "y_train = (default_train['default'] == 'Yes').astype(int)\n",
    "y_test = (default_test['default'] == 'Yes').astype(int)\n",
    "\n",
    "glm = sm.GLM(y_train, X_train, family=sm.families.Binomial())\n",
    "results = glm.fit()\n",
    "\n",
    "# Summarizing results\n",
    "print(results.summary())"
   ]
  },
  {
   "cell_type": "markdown",
   "id": "d4c958ee",
   "metadata": {},
   "source": [
    "- balance std err: 7.8e-05 \n",
    "- income std err: 4.1e-06"
   ]
  },
  {
   "cell_type": "markdown",
   "id": "0dbf8fca",
   "metadata": {},
   "source": [
    "### (b) Write a function, boot_fn(), that takes as input the Default data set as well as an index of the observations, and that outputs the coefficient estimates for income and balance in the multiple logistic regression model. "
   ]
  },
  {
   "cell_type": "code",
   "execution_count": 101,
   "id": "8d4f489d",
   "metadata": {},
   "outputs": [],
   "source": [
    "def boot_fn(default, idx):\n",
    "    # Subset the data based on the provided indices\n",
    "    boot_sample = default.iloc[idx]\n",
    "    \n",
    "    # Fit logistic regression model to the bootstrap sample\n",
    "    mod = smf.glm(formula='default ~ income + balance', data=boot_sample, family=sm.families.Binomial()).fit()\n",
    "    \n",
    "    # Extract coefficient estimates for 'income' and 'balance'\n",
    "    coef_income = mod.params[1]\n",
    "    coef_balance = mod.params[2]\n",
    "    \n",
    "    return [coef_income, coef_balance]"
   ]
  },
  {
   "cell_type": "markdown",
   "id": "67042c69",
   "metadata": {},
   "source": [
    "### (c) Following the bootstrap example in the lab, use your boot_fn() function to estimate the standard errors of the logistic regression coefficients for income and balance. "
   ]
  },
  {
   "cell_type": "code",
   "execution_count": 106,
   "id": "56d885e0",
   "metadata": {},
   "outputs": [],
   "source": [
    "def boot_SE(func, D, n=None, B=1000, seed=0):\n",
    "    rng = np.random.default_rng(seed)\n",
    "    first_, second_ = 0, 0\n",
    "    n = n or D.shape[0]\n",
    "    \n",
    "    for _ in range(B):\n",
    "        idx = rng.choice(n, replace=True)\n",
    "        coef_income, coef_balance = func(D, idx)  # Unpack coefficients from the list\n",
    "        first_ += coef_income\n",
    "        second_ += coef_income ** 2\n",
    "        \n",
    "    return np.sqrt(second_ / B - (first_ / B) ** 2)"
   ]
  },
  {
   "cell_type": "code",
   "execution_count": 109,
   "id": "ede4fa1f",
   "metadata": {},
   "outputs": [
    {
     "data": {
      "text/plain": [
       "0.0004641062613835811"
      ]
     },
     "execution_count": 109,
     "metadata": {},
     "output_type": "execute_result"
    }
   ],
   "source": [
    "estimated_error = boot_SE(\n",
    "    boot_fn ,             \n",
    "    default ,              \n",
    "    B=1000,            \n",
    "    seed=0\n",
    ")\n",
    "\n",
    "estimated_error"
   ]
  },
  {
   "cell_type": "markdown",
   "id": "8ebc4bb5",
   "metadata": {},
   "source": [
    "### (d) Comment on the estimated standard errors obtained using the sm.GLM() function and using the bootstrap."
   ]
  },
  {
   "cell_type": "markdown",
   "id": "e9caa2b4",
   "metadata": {},
   "source": [
    "- The standard error is larger when using th bootstrap method?"
   ]
  },
  {
   "cell_type": "markdown",
   "id": "0220ec85",
   "metadata": {},
   "source": [
    "## 9. We will now consider the Boston housing data set, from the ISLP library.\n"
   ]
  },
  {
   "cell_type": "code",
   "execution_count": 118,
   "id": "14107442",
   "metadata": {},
   "outputs": [],
   "source": [
    "boston = load_data('Boston')"
   ]
  },
  {
   "cell_type": "markdown",
   "id": "c47d56de",
   "metadata": {},
   "source": [
    "#### (a) Based on this data set, provide an estimate for the population mean of medv. Call this estimate µ\n"
   ]
  },
  {
   "cell_type": "code",
   "execution_count": 122,
   "id": "23e1c76a",
   "metadata": {},
   "outputs": [],
   "source": [
    "µ = boston['medv'].mean()"
   ]
  },
  {
   "cell_type": "code",
   "execution_count": 120,
   "id": "612b5cce",
   "metadata": {},
   "outputs": [
    {
     "data": {
      "text/plain": [
       "22.532806324110698"
      ]
     },
     "execution_count": 120,
     "metadata": {},
     "output_type": "execute_result"
    }
   ],
   "source": [
    "µ"
   ]
  },
  {
   "cell_type": "markdown",
   "id": "9dd74105",
   "metadata": {},
   "source": [
    "### (b) Provide an estimate of the standard error of µˆ. Interpret this result. Hint: We can compute the standard error of the sample mean by dividing the sample standard deviation by the square root of the number of observations.\n"
   ]
  },
  {
   "cell_type": "code",
   "execution_count": 124,
   "id": "358a71e3",
   "metadata": {},
   "outputs": [
    {
     "data": {
      "text/plain": [
       "0.4088611474975351"
      ]
     },
     "execution_count": 124,
     "metadata": {},
     "output_type": "execute_result"
    }
   ],
   "source": [
    "std = boston['medv'].std()\n",
    "se_µ = std / np.sqrt(len(boston))\n",
    "se_µ"
   ]
  },
  {
   "cell_type": "markdown",
   "id": "b60bbaeb",
   "metadata": {},
   "source": [
    "- On average, the sample mean estimate of the median house value differes form the true population mean by approx .4089"
   ]
  },
  {
   "cell_type": "markdown",
   "id": "db08937a",
   "metadata": {},
   "source": [
    "### (c) Now estimate the standard error of µˆ using the bootstrap. How does this compare to your answer from (b)?\n"
   ]
  },
  {
   "cell_type": "code",
   "execution_count": 128,
   "id": "cbcb15f1",
   "metadata": {},
   "outputs": [
    {
     "name": "stdout",
     "output_type": "stream",
     "text": [
      "Standard Error using Bootstrap: 0.4125347675099619\n"
     ]
    }
   ],
   "source": [
    "def boot_fn(data, idx):\n",
    "    # Subset the data based on the provided indices\n",
    "    boot_sample = data.iloc[idx]\n",
    "    \n",
    "    # Compute the sample mean of 'medv' for the bootstrap sample\n",
    "    sample_mean = boot_sample['medv'].mean()\n",
    "    \n",
    "    return sample_mean\n",
    "\n",
    "# Function to compute standard error using bootstrap\n",
    "def boot_SE(func, data, B=1000, seed=0):\n",
    "    rng = np.random.default_rng(seed)\n",
    "    sample_means = []\n",
    "    \n",
    "    for _ in range(B):\n",
    "        idx = rng.choice(data.index, size=len(data), replace=True)\n",
    "        sample_mean = func(data, idx)\n",
    "        sample_means.append(sample_mean)\n",
    "    \n",
    "    # Compute standard error\n",
    "    se = np.std(sample_means)\n",
    "    \n",
    "    return se\n",
    "\n",
    "# Estimate standard error using bootstrap\n",
    "se_bootstrap = boot_SE(boot_fn, boston)\n",
    "print(\"Standard Error using Bootstrap:\", se_bootstrap)"
   ]
  },
  {
   "cell_type": "markdown",
   "id": "5b85b0e3",
   "metadata": {},
   "source": [
    "- they are almost identical. Bootstrap standard error is slightly higher"
   ]
  },
  {
   "cell_type": "markdown",
   "id": "11e8e5c7",
   "metadata": {},
   "source": [
    "### (d) Based on your bootstrap estimate from (c), provide a 95 % confidence interval for the mean of medv. Compare it to the results obtained by using Boston['medv'].std() and the two standard error rule (3.9). Hint: You can approximate a 95 % confidence interval using the formula [ˆ µ − 2SE(ˆ µ), µˆ + 2SE(ˆ µ)].\n"
   ]
  },
  {
   "cell_type": "code",
   "execution_count": 165,
   "id": "316045bb",
   "metadata": {},
   "outputs": [
    {
     "data": {
      "text/plain": [
       "mu        22.532806\n",
       "SE         0.412535\n",
       "[0.025    21.707737\n",
       "0.975]    23.357876\n",
       "dtype: float64"
      ]
     },
     "execution_count": 165,
     "metadata": {},
     "output_type": "execute_result"
    }
   ],
   "source": [
    "mu_hat   = np.mean(boston['medv'])\n",
    "conf_low = mu_hat - (2*se_bootstrap)\n",
    "conf_hi  = mu_hat + (2*se_bootstrap)\n",
    "\n",
    "pd.Series({'mu': mu_hat, \n",
    "           'SE': se_bootstrap,\n",
    "           '[0.025': conf_low,\n",
    "           '0.975]': conf_hi})"
   ]
  },
  {
   "cell_type": "markdown",
   "id": "29f87e8e",
   "metadata": {},
   "source": [
    "### (e) Based on this data set, provide an estimate, µˆmed, for the median value of medv in the population.\n"
   ]
  },
  {
   "cell_type": "code",
   "execution_count": 167,
   "id": "c04862eb",
   "metadata": {},
   "outputs": [
    {
     "data": {
      "text/plain": [
       "21.2"
      ]
     },
     "execution_count": 167,
     "metadata": {},
     "output_type": "execute_result"
    }
   ],
   "source": [
    "median_hat = np.median(boston['medv'])\n",
    "median_hat"
   ]
  },
  {
   "cell_type": "markdown",
   "id": "15f3bf77",
   "metadata": {},
   "source": [
    "### (f) We now would like to estimate the standard error of µˆmed. Unfortunately, there is no simple formula for computing the standard error of the median. Instead, estimate the standard error of the median using the bootstrap. Comment on your findings.\n"
   ]
  },
  {
   "cell_type": "code",
   "execution_count": 168,
   "id": "63cfccff",
   "metadata": {},
   "outputs": [],
   "source": [
    "def boot_fn(data, idx):\n",
    "    # Subset the data based on the provided indices\n",
    "    boot_sample = data.iloc[idx]\n",
    "    \n",
    "    # Compute the sample mean of 'medv' for the bootstrap sample\n",
    "    sample_median = boot_sample['medv'].median()\n",
    "    \n",
    "    return sample_median"
   ]
  },
  {
   "cell_type": "code",
   "execution_count": 169,
   "id": "d25986a9",
   "metadata": {},
   "outputs": [
    {
     "name": "stdout",
     "output_type": "stream",
     "text": [
      "Standard Error using Bootstrap: 0.3694462207141924\n"
     ]
    }
   ],
   "source": [
    "# Function to compute standard error using bootstrap\n",
    "def boot_SE(func, data, B=1000, seed=0):\n",
    "    rng = np.random.default_rng(seed)\n",
    "    sample_medians = []\n",
    "    \n",
    "    for _ in range(B):\n",
    "        idx = rng.choice(data.index, size=len(data), replace=True)\n",
    "        sample_median = func(data, idx)\n",
    "        sample_medians.append(sample_median)\n",
    "    \n",
    "    # Compute standard error\n",
    "    se = np.std(sample_medians)\n",
    "    \n",
    "    return se\n",
    "\n",
    "# Estimate standard error using bootstrap\n",
    "se_bootstrap = boot_SE(boot_fn, boston)\n",
    "print(\"Standard Error using Bootstrap:\", se_bootstrap)"
   ]
  },
  {
   "cell_type": "markdown",
   "id": "593b6a43",
   "metadata": {},
   "source": [
    "### (g) Based on this data set, provide an estimate for the tenth percentile of medv in Boston census tracts. Call this quantity µˆ0.1. (You can use the np.percentile() function.)\n",
    "\n"
   ]
  },
  {
   "cell_type": "code",
   "execution_count": 170,
   "id": "0e40c566",
   "metadata": {},
   "outputs": [
    {
     "data": {
      "text/plain": [
       "12.75"
      ]
     },
     "execution_count": 170,
     "metadata": {},
     "output_type": "execute_result"
    }
   ],
   "source": [
    "tenth_percentile = np.percentile(boston['medv'], 10)\n",
    "tenth_percentile"
   ]
  },
  {
   "cell_type": "markdown",
   "id": "35379f71",
   "metadata": {},
   "source": [
    "### (h) Use the bootstrap to estimate the standard error of µˆ0.1. Comment on your findings"
   ]
  },
  {
   "cell_type": "code",
   "execution_count": 171,
   "id": "c2341a1b",
   "metadata": {},
   "outputs": [],
   "source": [
    "def boot_fn(data, idx):\n",
    "    # Subset the data based on the provided indices\n",
    "    boot_sample = data.iloc[idx]\n",
    "    \n",
    "    # Compute the sample mean of 'medv' for the bootstrap sample\n",
    "    sample_tenth_percent = np.percentile(boot_sample['medv'], 10)\n",
    "    \n",
    "    return sample_tenth_percent"
   ]
  },
  {
   "cell_type": "code",
   "execution_count": 172,
   "id": "5397ad37",
   "metadata": {},
   "outputs": [
    {
     "name": "stdout",
     "output_type": "stream",
     "text": [
      "Standard Error µˆ0.1 Bootstrap: 0.5034541091301172\n"
     ]
    }
   ],
   "source": [
    "se_bootstrap = boot_SE(boot_fn, boston)\n",
    "print(\"Standard Error µˆ0.1 Bootstrap:\", se_bootstrap)"
   ]
  }
 ],
 "metadata": {
  "hide_input": false,
  "kernelspec": {
   "display_name": "Python 3 (ipykernel)",
   "language": "python",
   "name": "python3"
  },
  "language_info": {
   "codemirror_mode": {
    "name": "ipython",
    "version": 3
   },
   "file_extension": ".py",
   "mimetype": "text/x-python",
   "name": "python",
   "nbconvert_exporter": "python",
   "pygments_lexer": "ipython3",
   "version": "3.9.12"
  }
 },
 "nbformat": 4,
 "nbformat_minor": 5
}
