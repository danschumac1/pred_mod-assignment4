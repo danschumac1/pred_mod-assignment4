{
 "cells": [
  {
   "cell_type": "markdown",
   "id": "cbf8100d",
   "metadata": {},
   "source": [
    "# Ch 5. Resampling"
   ]
  },
  {
   "cell_type": "markdown",
   "id": "cd419e3a",
   "metadata": {},
   "source": [
    "### Imports"
   ]
  },
  {
   "cell_type": "code",
   "execution_count": 21,
   "id": "5f8e28fa",
   "metadata": {},
   "outputs": [],
   "source": [
    "import numpy as np\n",
    "import statsmodels.api as sm\n",
    "from ISLP import load_data\n",
    "from ISLP.models import (\n",
    "    ModelSpec as MS,\n",
    "    summarize,\n",
    "    poly,\n",
    "    sklearn_sm\n",
    ")\n",
    "from sklearn.model_selection import (\n",
    "    train_test_split,\n",
    "    cross_validate,\n",
    "    KFold,\n",
    "    ShuffleSplit\n",
    ")\n",
    "from sklearn.base import clone"
   ]
  },
  {
   "cell_type": "markdown",
   "id": "136aa57e",
   "metadata": {},
   "source": [
    "### Functions to Use"
   ]
  },
  {
   "cell_type": "code",
   "execution_count": 38,
   "id": "c957a6fa",
   "metadata": {},
   "outputs": [],
   "source": [
    "def evalMSE(terms, response, train, test):\n",
    "    mm = MS(terms)\n",
    "    \n",
    "    # Fit the model using the training data\n",
    "    X_train = mm.fit_transform(train)\n",
    "    y_train = train[response]\n",
    "    \n",
    "    # Transform the test data without fitting the model again\n",
    "    X_test = mm.transform(test)  # Use transform instead of fit_transform\n",
    "    y_test = test[response]  # This should likely reference 'test' instead of 'train'\n",
    "    \n",
    "    results = sm.OLS(y_train, X_train).fit()\n",
    "    test_pred = results.predict(X_test)\n",
    "    \n",
    "    return np.mean(\n",
    "        (y_test - test_pred) ** 2    \n",
    "    )"
   ]
  },
  {
   "cell_type": "markdown",
   "id": "fc90d086",
   "metadata": {},
   "source": [
    "### Load Data"
   ]
  },
  {
   "cell_type": "code",
   "execution_count": 23,
   "id": "23782fa4",
   "metadata": {},
   "outputs": [],
   "source": [
    "Auto = load_data(\"Auto\")\n",
    "Auto_train, Auto_dev = train_test_split(\n",
    "    Auto,\n",
    "    test_size=196,\n",
    "    random_state=0\n",
    ")"
   ]
  },
  {
   "cell_type": "markdown",
   "id": "55aafcce",
   "metadata": {},
   "source": [
    "### Fit Linear Regression"
   ]
  },
  {
   "cell_type": "code",
   "execution_count": 24,
   "id": "24dec8eb",
   "metadata": {},
   "outputs": [],
   "source": [
    "# specify model?\n",
    "hp_mm = MS(['horsepower'])\n",
    "X_train = hp_mm.fit_transform(Auto_train)\n",
    "y_train = Auto_train['mpg']\n",
    "model = sm.OLS(y_train,X_train)\n",
    "results = model.fit()"
   ]
  },
  {
   "cell_type": "code",
   "execution_count": 31,
   "id": "013b1f99",
   "metadata": {},
   "outputs": [
    {
     "data": {
      "text/plain": [
       "23.61661706966987"
      ]
     },
     "execution_count": 31,
     "metadata": {},
     "output_type": "execute_result"
    }
   ],
   "source": [
    "X_dev = hp_mm.fit_transform(Auto_dev)\n",
    "y_dev = Auto_dev['mpg']\n",
    "dev_pred = results.predict(X_dev)\n",
    "np.mean(\n",
    "    (y_dev - dev_pred) **2\n",
    ")"
   ]
  },
  {
   "cell_type": "markdown",
   "id": "25b0499d",
   "metadata": {},
   "source": [
    "### Use custom function to estimate dev MSE using different power fits."
   ]
  },
  {
   "cell_type": "code",
   "execution_count": 49,
   "id": "e607e24c",
   "metadata": {},
   "outputs": [
    {
     "data": {
      "text/plain": [
       "array([23.61661707, 18.76303135, 18.79694163])"
      ]
     },
     "execution_count": 49,
     "metadata": {},
     "output_type": "execute_result"
    }
   ],
   "source": [
    "MSE = np.zeros(3)\n",
    "for idx, degree in enumerate(range(1, 4)):\n",
    "    MSE[idx] = evalMSE(\n",
    "      [poly('horsepower', degree)],\n",
    "        'mpg',\n",
    "        Auto_train ,\n",
    "        Auto_dev\n",
    "    )\n",
    "MSE"
   ]
  },
  {
   "cell_type": "markdown",
   "id": "ba093d8c",
   "metadata": {},
   "source": [
    "### Perform LOOCV looking at error"
   ]
  },
  {
   "cell_type": "code",
   "execution_count": 45,
   "id": "2eef6742",
   "metadata": {},
   "outputs": [
    {
     "data": {
      "text/plain": [
       "24.231513517929233"
      ]
     },
     "execution_count": 45,
     "metadata": {},
     "output_type": "execute_result"
    }
   ],
   "source": [
    "hp_model = sklearn_sm(\n",
    "    sm.OLS,\n",
    "    MS(['horsepower'])\n",
    ")\n",
    "\n",
    "X, y = Auto.drop(columns = ['mpg']), Auto['mpg']\n",
    "\n",
    "cv_results = cross_validate(\n",
    "    hp_model,\n",
    "    X,\n",
    "    y,\n",
    "    cv = Auto.shape[0]\n",
    ")\n",
    "\n",
    "cv_err = np.mean(cv_results['test_score'])\n",
    "cv_err"
   ]
  },
  {
   "cell_type": "markdown",
   "id": "dd92df77",
   "metadata": {},
   "source": [
    "### Do the same process but across different polynomiels"
   ]
  },
  {
   "cell_type": "code",
   "execution_count": 47,
   "id": "53410b9a",
   "metadata": {},
   "outputs": [
    {
     "data": {
      "text/plain": [
       "array([24.23151352, 19.24821312, 19.33498406, 19.42443032, 19.03323636])"
      ]
     },
     "execution_count": 47,
     "metadata": {},
     "output_type": "execute_result"
    }
   ],
   "source": [
    "cv_error = np.zeros(5)\n",
    "H = np.array(Auto['horsepower'])\n",
    "M = sklearn_sm(sm.OLS)\n",
    "for i, d in enumerate(range(1,6)):\n",
    "    X = np.power.outer(H, np.arange(d+1))\n",
    "    M_CV = cross_validate(\n",
    "        M,\n",
    "        X,\n",
    "        y,\n",
    "        cv = Auto.shape[0]\n",
    "    )\n",
    "    cv_error[i] = np.mean(M_CV['test_score'])\n",
    "cv_error"
   ]
  },
  {
   "cell_type": "code",
   "execution_count": 51,
   "id": "4e26547e",
   "metadata": {},
   "outputs": [
    {
     "data": {
      "text/plain": [
       "array([24.20766449, 19.18533142, 19.27626666, 19.47848402, 19.13719339])"
      ]
     },
     "execution_count": 51,
     "metadata": {},
     "output_type": "execute_result"
    }
   ],
   "source": [
    "cv_error = np.zeros(5)\n",
    "cv = KFold(\n",
    "    n_splits=10,\n",
    "    shuffle=True,\n",
    "    random_state=0\n",
    ") \n",
    "# use same splits for each degree\n",
    "\n",
    "for i, d in enumerate(range(1,6)):\n",
    "    X = np.power.outer(H, np.arange(d+1))\n",
    "    M_CV = cross_validate(\n",
    "        M,\n",
    "        X,\n",
    "        y,\n",
    "        cv=cv\n",
    "    )\n",
    "    cv_error[i] = np.mean(M_CV['test_score'])\n",
    "cv_error"
   ]
  },
  {
   "cell_type": "code",
   "execution_count": 52,
   "id": "21a169ca",
   "metadata": {},
   "outputs": [
    {
     "data": {
      "text/plain": [
       "array([23.61661707])"
      ]
     },
     "execution_count": 52,
     "metadata": {},
     "output_type": "execute_result"
    }
   ],
   "source": [
    "validation = ShuffleSplit(\n",
    "    n_splits=1,\n",
    "    test_size=196,\n",
    "    random_state=0\n",
    ")\n",
    "\n",
    "results = cross_validate(\n",
    "    hp_model,\n",
    "    Auto.drop(['mpg'],axis=1),\n",
    "    Auto['mpg'],\n",
    "    cv = validation\n",
    ")\n",
    "\n",
    "results['test_score']"
   ]
  },
  {
   "cell_type": "markdown",
   "id": "24a8dc65",
   "metadata": {},
   "source": [
    "### test variability in ^^^"
   ]
  },
  {
   "cell_type": "code",
   "execution_count": 53,
   "id": "efcac62c",
   "metadata": {},
   "outputs": [
    {
     "data": {
      "text/plain": [
       "(23.80223266103416, 1.4218450941091862)"
      ]
     },
     "execution_count": 53,
     "metadata": {},
     "output_type": "execute_result"
    }
   ],
   "source": [
    "validation = ShuffleSplit(\n",
    "    n_splits=10,\n",
    "    test_size=196,\n",
    "    random_state=0\n",
    ")\n",
    "\n",
    "results = cross_validate(\n",
    "    hp_model,\n",
    "    Auto.drop(['mpg'],axis=1),\n",
    "    Auto['mpg'],\n",
    "    cv = validation\n",
    ")\n",
    "\n",
    "results['test_score'].mean(), results['test_score'].std()"
   ]
  },
  {
   "cell_type": "markdown",
   "id": "0501ce24",
   "metadata": {},
   "source": [
    "# Bootstrap"
   ]
  },
  {
   "cell_type": "markdown",
   "id": "120cffcb",
   "metadata": {},
   "source": [
    "### Load Data"
   ]
  },
  {
   "cell_type": "code",
   "execution_count": 54,
   "id": "97324848",
   "metadata": {},
   "outputs": [],
   "source": [
    "Portfolio = load_data('Portfolio')"
   ]
  },
  {
   "cell_type": "markdown",
   "id": "8532fd14",
   "metadata": {},
   "source": [
    "### Simple Function"
   ]
  },
  {
   "cell_type": "code",
   "execution_count": 55,
   "id": "c6d757cb",
   "metadata": {},
   "outputs": [],
   "source": [
    "def alpha_func(Dataframe, idx):\n",
    "    cov_ = np.cov(\n",
    "        Dataframe[['X','Y']].loc[idx],\n",
    "        rowvar = False\n",
    "    )\n",
    "    \n",
    "    return (\n",
    "        (cov_[1,1] - cov_[0,1]) / (cov_[0,0] + cov_[1,1] -2*cov_[0,1])\n",
    "    )"
   ]
  },
  {
   "cell_type": "code",
   "execution_count": 56,
   "id": "3ff8c123",
   "metadata": {},
   "outputs": [
    {
     "data": {
      "text/plain": [
       "0.5758320745928298"
      ]
     },
     "execution_count": 56,
     "metadata": {},
     "output_type": "execute_result"
    }
   ],
   "source": [
    " alpha_func(Portfolio , range(100))"
   ]
  },
  {
   "cell_type": "code",
   "execution_count": 57,
   "id": "3c9a26fb",
   "metadata": {},
   "outputs": [
    {
     "data": {
      "text/plain": [
       "0.6074452469619002"
      ]
     },
     "execution_count": 57,
     "metadata": {},
     "output_type": "execute_result"
    }
   ],
   "source": [
    "rng = np.random.default_rng(0)\n",
    "alpha_func(\n",
    "    Portfolio,\n",
    "    rng.choice(\n",
    "        100,\n",
    "        100,\n",
    "        replace = True\n",
    "    )\n",
    ")"
   ]
  },
  {
   "cell_type": "markdown",
   "id": "b8615ccd",
   "metadata": {},
   "source": [
    "### Compound Function"
   ]
  },
  {
   "cell_type": "code",
   "execution_count": 58,
   "id": "d9b99a71",
   "metadata": {},
   "outputs": [],
   "source": [
    "def boot_SE(func, D, n = None, B = 1000, seed = 0):\n",
    "    \n",
    "    rng = np.random.default_rng(seed),\n",
    "    first_, second_ = 0,0\n",
    "    n = n or D.shape[0]\n",
    "    \n",
    "    for _ in range(B):\n",
    "        idx = rng.choice(\n",
    "            n,\n",
    "            replace = True\n",
    "        )\n",
    "        \n",
    "        value = func(D, idx)\n",
    "        first_ += value\n",
    "        second += value ** 2\n",
    "    return np.sqrt(\n",
    "        second_ / B - (first_ / B) ** 2\n",
    "    )"
   ]
  },
  {
   "cell_type": "code",
   "execution_count": 65,
   "id": "98697d06",
   "metadata": {},
   "outputs": [],
   "source": [
    "def boot_SE(func, D, n=None, B=1000, seed=0): \n",
    "    rng = np.random.default_rng(seed) \n",
    "    first_ , second_ = 0, 0 \n",
    "    n = n or D.shape[0] \n",
    "    for _ in range(B): \n",
    "        idx = rng.choice(D.index , \n",
    "                         n, \n",
    "                         replace=True) \n",
    "        value = func(D, idx) \n",
    "        first_ += value \n",
    "        second_ += value**2 \n",
    "    return np.sqrt(second_ / B - (first_ / B)**2)"
   ]
  },
  {
   "cell_type": "code",
   "execution_count": 68,
   "id": "0f9a9eae",
   "metadata": {},
   "outputs": [
    {
     "data": {
      "text/plain": [
       "0.09118176521277577"
      ]
     },
     "execution_count": 68,
     "metadata": {},
     "output_type": "execute_result"
    }
   ],
   "source": [
    "alpha_SE = boot_SE(\n",
    "    alpha_func ,             \n",
    "    Portfolio ,              \n",
    "    B=1000,            \n",
    "    seed=0\n",
    ")\n",
    "\n",
    "alpha_SE"
   ]
  },
  {
   "cell_type": "code",
   "execution_count": 69,
   "id": "674afde5",
   "metadata": {},
   "outputs": [],
   "source": [
    "def boot_OLS(model_matrix , response , D, idx):\n",
    "    D_ = D.loc[idx]\n",
    "    Y_ = D_[response]\n",
    "    X_ = clone(model_matrix).fit_transform(D_)\n",
    "    return sm.OLS(Y_, X_).fit().params"
   ]
  },
  {
   "cell_type": "code",
   "execution_count": 72,
   "id": "14a1225f",
   "metadata": {},
   "outputs": [],
   "source": [
    "from functools import partial"
   ]
  },
  {
   "cell_type": "code",
   "execution_count": 73,
   "id": "2832275b",
   "metadata": {},
   "outputs": [],
   "source": [
    "hp_func = partial(boot_OLS , MS(['horsepower']), 'mpg')"
   ]
  },
  {
   "cell_type": "code",
   "execution_count": 75,
   "id": "c48abc0f",
   "metadata": {},
   "outputs": [
    {
     "data": {
      "text/plain": [
       "array([[39.88064456, -0.1567849 ],\n",
       "       [38.73298691, -0.14699495],\n",
       "       [38.31734657, -0.14442683],\n",
       "       [39.91446826, -0.15782234],\n",
       "       [39.43349349, -0.15072702],\n",
       "       [40.36629857, -0.15912217],\n",
       "       [39.62334517, -0.15449117],\n",
       "       [39.0580588 , -0.14952908],\n",
       "       [38.66688437, -0.14521037],\n",
       "       [39.64280792, -0.15555698]])"
      ]
     },
     "execution_count": 75,
     "metadata": {},
     "output_type": "execute_result"
    }
   ],
   "source": [
    "rng = np.random.default_rng(0)\n",
    "np.array(\n",
    "    [\n",
    "        hp_func(\n",
    "            Auto,\n",
    "            rng.choice(392,392, replace=True)) for _ in range(10)\n",
    "    ]\n",
    ")"
   ]
  },
  {
   "cell_type": "code",
   "execution_count": 77,
   "id": "3489aeb3",
   "metadata": {},
   "outputs": [
    {
     "data": {
      "text/plain": [
       "intercept     0.848807\n",
       "horsepower    0.007352\n",
       "dtype: float64"
      ]
     },
     "execution_count": 77,
     "metadata": {},
     "output_type": "execute_result"
    }
   ],
   "source": [
    "hp_se = boot_SE(\n",
    "    hp_func,\n",
    "    Auto,\n",
    "    B=1000,\n",
    "    seed=10\n",
    ")\n",
    "hp_se"
   ]
  },
  {
   "cell_type": "code",
   "execution_count": 78,
   "id": "24f73d83",
   "metadata": {},
   "outputs": [
    {
     "data": {
      "text/plain": [
       "intercept     0.717\n",
       "horsepower    0.006\n",
       "Name: std err, dtype: float64"
      ]
     },
     "execution_count": 78,
     "metadata": {},
     "output_type": "execute_result"
    }
   ],
   "source": [
    "hp_model.fit(Auto, Auto['mpg'])\n",
    "model_se = summarize(hp_model.results_)['std err']\n",
    "model_se"
   ]
  },
  {
   "cell_type": "code",
   "execution_count": 79,
   "id": "1fc14eeb",
   "metadata": {},
   "outputs": [
    {
     "data": {
      "text/plain": [
       "intercept                                  2.067840\n",
       "poly(horsepower, degree=2, raw=True)[0]    0.033019\n",
       "poly(horsepower, degree=2, raw=True)[1]    0.000120\n",
       "dtype: float64"
      ]
     },
     "execution_count": 79,
     "metadata": {},
     "output_type": "execute_result"
    }
   ],
   "source": [
    "quad_model = MS([poly('horsepower', 2, raw=True)])\n",
    "quad_func = partial(\n",
    "    boot_OLS ,\n",
    "    quad_model ,\n",
    "    'mpg'\n",
    ")\n",
    "boot_SE(quad_func , Auto, B=1000)"
   ]
  },
  {
   "cell_type": "code",
   "execution_count": 80,
   "id": "ebec4728",
   "metadata": {},
   "outputs": [
    {
     "data": {
      "text/plain": [
       "intercept                                  1.800\n",
       "poly(horsepower, degree=2, raw=True)[0]    0.031\n",
       "poly(horsepower, degree=2, raw=True)[1]    0.000\n",
       "Name: std err, dtype: float64"
      ]
     },
     "execution_count": 80,
     "metadata": {},
     "output_type": "execute_result"
    }
   ],
   "source": [
    "M = sm.OLS(Auto['mpg'],\n",
    "quad_model.fit_transform(Auto))\n",
    "summarize(M.fit())['std err']"
   ]
  },
  {
   "cell_type": "code",
   "execution_count": null,
   "id": "cc0f6365",
   "metadata": {},
   "outputs": [],
   "source": []
  }
 ],
 "metadata": {
  "hide_input": false,
  "kernelspec": {
   "display_name": "Python 3 (ipykernel)",
   "language": "python",
   "name": "python3"
  },
  "language_info": {
   "codemirror_mode": {
    "name": "ipython",
    "version": 3
   },
   "file_extension": ".py",
   "mimetype": "text/x-python",
   "name": "python",
   "nbconvert_exporter": "python",
   "pygments_lexer": "ipython3",
   "version": "3.9.12"
  }
 },
 "nbformat": 4,
 "nbformat_minor": 5
}
